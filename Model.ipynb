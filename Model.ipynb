{
 "cells": [
  {
   "cell_type": "code",
   "execution_count": 7,
   "id": "e3882dcf",
   "metadata": {},
   "outputs": [],
   "source": [
    "#imports cv2 for camera\n",
    "import cv2\n",
    "#import Mediapipe\n",
    "import mediapipe as mp"
   ]
  },
  {
   "cell_type": "code",
   "execution_count": 8,
   "id": "a74c1225",
   "metadata": {},
   "outputs": [],
   "source": [
    "# First step is to initialize the Hands class an store it in a variable\n",
    "mp_hands = mp.solutions.hands\n",
    "\n",
    "# Now second step is to set the hands function which will hold the landmarks points (True for image and False for video)\n",
    "hands = mp_hands.Hands(static_image_mode=False, max_num_hands=2, min_detection_confidence=0.3)\n",
    "\n",
    "# Last step is to set up the drawing function of hands landmarks on the image\n",
    "mp_drawing = mp.solutions.drawing_utils"
   ]
  },
  {
   "cell_type": "code",
   "execution_count": 9,
   "id": "781fbfbf",
   "metadata": {},
   "outputs": [],
   "source": [
    "#to view camera frame by frame\n",
    "cam = cv2.VideoCapture(0)\n",
    "\n",
    "while True:\n",
    "    check, frame = cam.read()\n",
    "    results = hands.process(cv2.cvtColor(frame, cv2.COLOR_BGR2RGB))\n",
    "    if results.multi_hand_landmarks:\n",
    "        for handLms in results.multi_hand_landmarks:\n",
    "            for id, lm in enumerate(handLms.landmark):\n",
    "                h, w, c = frame.shape\n",
    "                cx, cy = int(lm.x * w), int(lm.y * h)\n",
    "            mp_drawing.draw_landmarks(frame, handLms, mp_hands.HAND_CONNECTIONS)\n",
    "    \n",
    "    cv2.imshow('video', frame)\n",
    "\n",
    "    key = cv2.waitKey(1)\n",
    "    if key == 27: #if esc is pressed it breaks the loop and exits\n",
    "        break\n",
    "\n",
    "cam.release()\n",
    "cv2.destroyAllWindows()"
   ]
  },
  {
   "cell_type": "code",
   "execution_count": null,
   "id": "c99903d8",
   "metadata": {},
   "outputs": [],
   "source": []
  }
 ],
 "metadata": {
  "kernelspec": {
   "display_name": "Python 3 (ipykernel)",
   "language": "python",
   "name": "python3"
  },
  "language_info": {
   "codemirror_mode": {
    "name": "ipython",
    "version": 3
   },
   "file_extension": ".py",
   "mimetype": "text/x-python",
   "name": "python",
   "nbconvert_exporter": "python",
   "pygments_lexer": "ipython3",
   "version": "3.9.7"
  }
 },
 "nbformat": 4,
 "nbformat_minor": 5
}
