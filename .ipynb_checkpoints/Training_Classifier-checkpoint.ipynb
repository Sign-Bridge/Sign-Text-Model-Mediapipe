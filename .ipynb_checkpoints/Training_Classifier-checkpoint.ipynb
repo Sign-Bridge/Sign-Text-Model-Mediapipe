{
 "cells": [
  {
   "cell_type": "code",
   "execution_count": 1,
   "id": "cdfcb60b",
   "metadata": {},
   "outputs": [],
   "source": [
    "import pickle"
   ]
  },
  {
   "cell_type": "code",
   "execution_count": 2,
   "id": "7781eeb8",
   "metadata": {},
   "outputs": [],
   "source": [
    "data_dict = pickle.load(open('./data.pickle', 'rb'))"
   ]
  },
  {
   "cell_type": "code",
   "execution_count": 3,
   "id": "25f77b49",
   "metadata": {},
   "outputs": [
    {
     "name": "stderr",
     "output_type": "stream",
     "text": [
      "IOPub data rate exceeded.\n",
      "The notebook server will temporarily stop sending output\n",
      "to the client in order to avoid crashing it.\n",
      "To change this limit, set the config variable\n",
      "`--NotebookApp.iopub_data_rate_limit`.\n",
      "\n",
      "Current values:\n",
      "NotebookApp.iopub_data_rate_limit=1000000.0 (bytes/sec)\n",
      "NotebookApp.rate_limit_window=3.0 (secs)\n",
      "\n"
     ]
    }
   ],
   "source": [
    "print(data_dict.keys())\n",
    "print(data_dict)"
   ]
  },
  {
   "cell_type": "code",
   "execution_count": 4,
   "id": "34b93ad0",
   "metadata": {},
   "outputs": [],
   "source": [
    "from sklearn.ensemble import RandomForestClassifier\n",
    "from sklearn.model_selection import train_test_split\n",
    "from sklearn.metrics import accuracy_score\n",
    "import numpy as np"
   ]
  },
  {
   "cell_type": "code",
   "execution_count": 5,
   "id": "c39558c1",
   "metadata": {},
   "outputs": [],
   "source": [
    "m_data = max(map(len, data_dict['data']))\n",
    "m_labels = max(map(len, data_dict['labels']))"
   ]
  },
  {
   "cell_type": "code",
   "execution_count": 6,
   "id": "eaccc326",
   "metadata": {},
   "outputs": [
    {
     "name": "stdout",
     "output_type": "stream",
     "text": [
      "[[0.47910342 0.85753196 0.40241134 ... 0.         0.         0.        ]\n",
      " [0.4755891  0.86245775 0.39989793 ... 0.         0.         0.        ]\n",
      " [0.48207533 0.85922539 0.40544933 ... 0.         0.         0.        ]\n",
      " ...\n",
      " [0.85250813 0.63000667 0.72051477 ... 0.27203462 0.42912161 0.21402571]\n",
      " [0.85017079 0.63141346 0.72075456 ... 0.         0.         0.        ]\n",
      " [0.85159105 0.62678945 0.72308809 ... 0.26778561 0.42481616 0.20768951]]\n",
      "['1' '1' '1' ... 'Z' 'Z' 'Z']\n"
     ]
    }
   ],
   "source": [
    "data = np.asarray([np.pad(v, (0, m_data - len(v)), 'constant') for v in data_dict['data']])\n",
    "labels = np.asarray([np.pad(v, (0, m_labels - len(v)), 'constant') for v in data_dict['labels']])\n",
    "print(data)\n",
    "print(labels)"
   ]
  },
  {
   "cell_type": "code",
   "execution_count": 7,
   "id": "5b58ad4d",
   "metadata": {},
   "outputs": [],
   "source": [
    "x_train, x_test, y_train, y_test = train_test_split(data, labels, test_size=0.2, shuffle=True, stratify=labels)"
   ]
  },
  {
   "cell_type": "code",
   "execution_count": 8,
   "id": "d6fd77d9",
   "metadata": {},
   "outputs": [],
   "source": [
    "model = RandomForestClassifier()\n",
    "\n",
    "model.fit(x_train, y_train)\n",
    "\n",
    "y_predict = model.predict(x_test)"
   ]
  },
  {
   "cell_type": "code",
   "execution_count": 9,
   "id": "29666b7d",
   "metadata": {},
   "outputs": [],
   "source": [
    "score = accuracy_score(y_predict, y_test)"
   ]
  },
  {
   "cell_type": "code",
   "execution_count": 10,
   "id": "aff3c565",
   "metadata": {},
   "outputs": [
    {
     "name": "stdout",
     "output_type": "stream",
     "text": [
      "99.98803684651274% of samples were classified correctly !\n"
     ]
    }
   ],
   "source": [
    "print('{}% of samples were classified correctly !'.format(score * 100))"
   ]
  },
  {
   "cell_type": "code",
   "execution_count": 11,
   "id": "f89a9d7e",
   "metadata": {},
   "outputs": [],
   "source": [
    "f = open('model.p', 'wb')\n",
    "pickle.dump({'model': model}, f)\n",
    "f.close()"
   ]
  },
  {
   "cell_type": "code",
   "execution_count": null,
   "id": "0b989d77",
   "metadata": {},
   "outputs": [],
   "source": []
  }
 ],
 "metadata": {
  "kernelspec": {
   "display_name": "Python 3 (ipykernel)",
   "language": "python",
   "name": "python3"
  },
  "language_info": {
   "codemirror_mode": {
    "name": "ipython",
    "version": 3
   },
   "file_extension": ".py",
   "mimetype": "text/x-python",
   "name": "python",
   "nbconvert_exporter": "python",
   "pygments_lexer": "ipython3",
   "version": "3.9.7"
  }
 },
 "nbformat": 4,
 "nbformat_minor": 5
}
